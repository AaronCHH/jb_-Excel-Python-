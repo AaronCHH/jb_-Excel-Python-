{
 "cells": [
  {
   "cell_type": "markdown",
   "metadata": {},
   "source": [
    "# Ch12 結果匯出"
   ]
  },
  {
   "cell_type": "markdown",
   "metadata": {},
   "source": [
    "## 匯出為Excel工作簿\n",
    "### 設定檔案匯出路徑"
   ]
  },
  {
   "cell_type": "code",
   "execution_count": 14,
   "metadata": {},
   "outputs": [],
   "source": [
    "import pandas as pd\n",
    "data = {\"使用者ID\":[59224,55295,46035,2459,22179,22557],\n",
    "        \"客戶分類\":[\"A類\",\"B類\",\"A類\",\"C類\",\"B類\",\"A類\"],\n",
    "         \"區域\":[\"北區\",\"南區\",\"中區\",\"北區\",\"南區\",\"中區\"],\n",
    "         \"7月銷量\":[6,37,8,7,9,42],\n",
    "         \"8月銷量\":[20,27,1,8,12,20],\n",
    "         \"9月銷量\":[0,35,8,14,4,55]}\n",
    "df = pd.DataFrame(data)"
   ]
  },
  {
   "cell_type": "code",
   "execution_count": 15,
   "metadata": {},
   "outputs": [
    {
     "data": {
      "text/html": [
       "<div>\n",
       "<style scoped>\n",
       "    .dataframe tbody tr th:only-of-type {\n",
       "        vertical-align: middle;\n",
       "    }\n",
       "\n",
       "    .dataframe tbody tr th {\n",
       "        vertical-align: top;\n",
       "    }\n",
       "\n",
       "    .dataframe thead th {\n",
       "        text-align: right;\n",
       "    }\n",
       "</style>\n",
       "<table border=\"1\" class=\"dataframe\">\n",
       "  <thead>\n",
       "    <tr style=\"text-align: right;\">\n",
       "      <th></th>\n",
       "      <th>使用者ID</th>\n",
       "      <th>客戶分類</th>\n",
       "      <th>區域</th>\n",
       "      <th>7月銷量</th>\n",
       "      <th>8月銷量</th>\n",
       "      <th>9月銷量</th>\n",
       "    </tr>\n",
       "  </thead>\n",
       "  <tbody>\n",
       "    <tr>\n",
       "      <td>0</td>\n",
       "      <td>59224</td>\n",
       "      <td>A類</td>\n",
       "      <td>北區</td>\n",
       "      <td>6</td>\n",
       "      <td>20</td>\n",
       "      <td>0</td>\n",
       "    </tr>\n",
       "    <tr>\n",
       "      <td>1</td>\n",
       "      <td>55295</td>\n",
       "      <td>B類</td>\n",
       "      <td>南區</td>\n",
       "      <td>37</td>\n",
       "      <td>27</td>\n",
       "      <td>35</td>\n",
       "    </tr>\n",
       "    <tr>\n",
       "      <td>2</td>\n",
       "      <td>46035</td>\n",
       "      <td>A類</td>\n",
       "      <td>中區</td>\n",
       "      <td>8</td>\n",
       "      <td>1</td>\n",
       "      <td>8</td>\n",
       "    </tr>\n",
       "    <tr>\n",
       "      <td>3</td>\n",
       "      <td>2459</td>\n",
       "      <td>C類</td>\n",
       "      <td>北區</td>\n",
       "      <td>7</td>\n",
       "      <td>8</td>\n",
       "      <td>14</td>\n",
       "    </tr>\n",
       "    <tr>\n",
       "      <td>4</td>\n",
       "      <td>22179</td>\n",
       "      <td>B類</td>\n",
       "      <td>南區</td>\n",
       "      <td>9</td>\n",
       "      <td>12</td>\n",
       "      <td>4</td>\n",
       "    </tr>\n",
       "    <tr>\n",
       "      <td>5</td>\n",
       "      <td>22557</td>\n",
       "      <td>A類</td>\n",
       "      <td>中區</td>\n",
       "      <td>42</td>\n",
       "      <td>20</td>\n",
       "      <td>55</td>\n",
       "    </tr>\n",
       "  </tbody>\n",
       "</table>\n",
       "</div>"
      ],
      "text/plain": [
       "   使用者ID 客戶分類  區域  7月銷量  8月銷量  9月銷量\n",
       "0  59224   A類  北區     6    20     0\n",
       "1  55295   B類  南區    37    27    35\n",
       "2  46035   A類  中區     8     1     8\n",
       "3   2459   C類  北區     7     8    14\n",
       "4  22179   B類  南區     9    12     4\n",
       "5  22557   A類  中區    42    20    55"
      ]
     },
     "execution_count": 15,
     "metadata": {},
     "output_type": "execute_result"
    }
   ],
   "source": [
    "df"
   ]
  },
  {
   "cell_type": "code",
   "execution_count": 16,
   "metadata": {},
   "outputs": [],
   "source": [
    "df.to_excel(excel_writer = \"../測試文件.xlsx\")"
   ]
  },
  {
   "cell_type": "markdown",
   "metadata": {},
   "source": [
    "### 設定Sheet名稱"
   ]
  },
  {
   "cell_type": "code",
   "execution_count": 17,
   "metadata": {},
   "outputs": [],
   "source": [
    "df.to_excel(excel_writer = r\"..\\測試文件2.xlsx\", sheet_name = \"測試文件\")"
   ]
  },
  {
   "cell_type": "markdown",
   "metadata": {},
   "source": [
    "### 設定索引"
   ]
  },
  {
   "cell_type": "code",
   "execution_count": 18,
   "metadata": {},
   "outputs": [],
   "source": [
    "df.to_excel(excel_writer = r\"..\\匯出文件.xlsx\",\n",
    "             sheet_name = \"測試文件\",\n",
    "             index = False)"
   ]
  },
  {
   "cell_type": "markdown",
   "metadata": {},
   "source": [
    "### 設定要匯出的欄位"
   ]
  },
  {
   "cell_type": "code",
   "execution_count": 19,
   "metadata": {},
   "outputs": [],
   "source": [
    "df.to_excel(excel_writer = r\"..\\匯出文件2.xlsx\",\n",
    "             sheet_name = \"測試文件\",\n",
    "             index = False,\n",
    "             columns = [\"使用者ID\",\"7月銷量\",\"8月銷量\",\"9月銷量\"])"
   ]
  },
  {
   "cell_type": "markdown",
   "metadata": {},
   "source": [
    "### 設定編碼格式"
   ]
  },
  {
   "cell_type": "code",
   "execution_count": 20,
   "metadata": {},
   "outputs": [],
   "source": [
    "df.to_excel(excel_writer = r\"..\\匯出文件3.xlsx\",\n",
    "             sheet_name = \"測試文件\",\n",
    "             index = False,\n",
    "             encoding = \"utf-8\"\n",
    "           )"
   ]
  },
  {
   "cell_type": "markdown",
   "metadata": {},
   "source": [
    "### 缺失值處理"
   ]
  },
  {
   "cell_type": "code",
   "execution_count": 21,
   "metadata": {},
   "outputs": [],
   "source": [
    "df.to_excel(excel_writer = r\"..\\匯出文件4.xlsx\",\n",
    "             sheet_name = \"測試文件\",\n",
    "             index = False,\n",
    "             encoding = \"utf-8\",\n",
    "             na_rep = 0 #缺失值填充為0\n",
    "             )"
   ]
  },
  {
   "cell_type": "markdown",
   "metadata": {},
   "source": [
    "### 無窮值處理"
   ]
  },
  {
   "cell_type": "code",
   "execution_count": 22,
   "metadata": {},
   "outputs": [
    {
     "data": {
      "text/plain": [
       "inf"
      ]
     },
     "execution_count": 22,
     "metadata": {},
     "output_type": "execute_result"
    }
   ],
   "source": [
    "float(\"inf\")"
   ]
  },
  {
   "cell_type": "code",
   "execution_count": 23,
   "metadata": {},
   "outputs": [
    {
     "data": {
      "text/plain": [
       "-inf"
      ]
     },
     "execution_count": 23,
     "metadata": {},
     "output_type": "execute_result"
    }
   ],
   "source": [
    "float(\"-inf\")"
   ]
  },
  {
   "cell_type": "markdown",
   "metadata": {},
   "source": [
    "## 匯出為.csv檔"
   ]
  },
  {
   "cell_type": "code",
   "execution_count": 24,
   "metadata": {},
   "outputs": [
    {
     "data": {
      "text/html": [
       "<div>\n",
       "<style scoped>\n",
       "    .dataframe tbody tr th:only-of-type {\n",
       "        vertical-align: middle;\n",
       "    }\n",
       "\n",
       "    .dataframe tbody tr th {\n",
       "        vertical-align: top;\n",
       "    }\n",
       "\n",
       "    .dataframe thead th {\n",
       "        text-align: right;\n",
       "    }\n",
       "</style>\n",
       "<table border=\"1\" class=\"dataframe\">\n",
       "  <thead>\n",
       "    <tr style=\"text-align: right;\">\n",
       "      <th></th>\n",
       "      <th>使用者ID</th>\n",
       "      <th>客戶分類</th>\n",
       "      <th>區域</th>\n",
       "      <th>7月銷量</th>\n",
       "      <th>8月銷量</th>\n",
       "      <th>9月銷量</th>\n",
       "    </tr>\n",
       "  </thead>\n",
       "  <tbody>\n",
       "    <tr>\n",
       "      <td>0</td>\n",
       "      <td>59224</td>\n",
       "      <td>A類</td>\n",
       "      <td>北區</td>\n",
       "      <td>6.0</td>\n",
       "      <td>20</td>\n",
       "      <td>0</td>\n",
       "    </tr>\n",
       "    <tr>\n",
       "      <td>1</td>\n",
       "      <td>55295</td>\n",
       "      <td>B類</td>\n",
       "      <td>南區</td>\n",
       "      <td>inf</td>\n",
       "      <td>27</td>\n",
       "      <td>35</td>\n",
       "    </tr>\n",
       "    <tr>\n",
       "      <td>2</td>\n",
       "      <td>46035</td>\n",
       "      <td>A類</td>\n",
       "      <td>中區</td>\n",
       "      <td>8.0</td>\n",
       "      <td>1</td>\n",
       "      <td>8</td>\n",
       "    </tr>\n",
       "    <tr>\n",
       "      <td>3</td>\n",
       "      <td>2459</td>\n",
       "      <td>C類</td>\n",
       "      <td>北區</td>\n",
       "      <td>7.0</td>\n",
       "      <td>8</td>\n",
       "      <td>14</td>\n",
       "    </tr>\n",
       "    <tr>\n",
       "      <td>4</td>\n",
       "      <td>22179</td>\n",
       "      <td>B類</td>\n",
       "      <td>南區</td>\n",
       "      <td>9.0</td>\n",
       "      <td>12</td>\n",
       "      <td>4</td>\n",
       "    </tr>\n",
       "    <tr>\n",
       "      <td>5</td>\n",
       "      <td>22557</td>\n",
       "      <td>A類</td>\n",
       "      <td>中區</td>\n",
       "      <td>42.0</td>\n",
       "      <td>20</td>\n",
       "      <td>55</td>\n",
       "    </tr>\n",
       "  </tbody>\n",
       "</table>\n",
       "</div>"
      ],
      "text/plain": [
       "   使用者ID 客戶分類  區域  7月銷量  8月銷量  9月銷量\n",
       "0  59224   A類  北區   6.0    20     0\n",
       "1  55295   B類  南區   inf    27    35\n",
       "2  46035   A類  中區   8.0     1     8\n",
       "3   2459   C類  北區   7.0     8    14\n",
       "4  22179   B類  南區   9.0    12     4\n",
       "5  22557   A類  中區  42.0    20    55"
      ]
     },
     "execution_count": 24,
     "metadata": {},
     "output_type": "execute_result"
    }
   ],
   "source": [
    "import numpy as np\n",
    "data20 = {\"使用者ID\":[59224,55295,46035,2459,22179,22557],\n",
    "        \"客戶分類\":[\"A類\",\"B類\",\"A類\",\"C類\",\"B類\",\"A類\"],\n",
    "         \"區域\":[\"北區\",\"南區\",\"中區\",\"北區\",\"南區\",\"中區\"],\n",
    "         \"7月銷量\":[6,np.inf,8,7,9,42],\n",
    "         \"8月銷量\":[20,27,1,8,12,20],\n",
    "         \"9月銷量\":[0,35,8,14,4,55]}\n",
    "df = pd.DataFrame(data20)\n",
    "df"
   ]
  },
  {
   "cell_type": "code",
   "execution_count": 25,
   "metadata": {},
   "outputs": [],
   "source": [
    "df.to_excel(excel_writer = r\"..\\匯出文件.xlsx\",\n",
    "             sheet_name = \"測試文件\",\n",
    "             index = False,\n",
    "             encoding = \"utf-8\",\n",
    "             na_rep = 0,#缺失值填充為0\n",
    "             inf_rep = 0#無窮值填充為0             \n",
    ")\n"
   ]
  },
  {
   "cell_type": "markdown",
   "metadata": {},
   "source": [
    "### 設定檔案匯出路徑"
   ]
  },
  {
   "cell_type": "code",
   "execution_count": 26,
   "metadata": {},
   "outputs": [],
   "source": [
    "df.to_csv(path_or_buf = r\"..\\匯出文件.csv\")"
   ]
  },
  {
   "cell_type": "markdown",
   "metadata": {},
   "source": [
    "### 設定索引"
   ]
  },
  {
   "cell_type": "code",
   "execution_count": 27,
   "metadata": {},
   "outputs": [],
   "source": [
    "df.to_csv(path_or_buf = r\"..\\匯出文件2.csv\",\n",
    "             index = False)"
   ]
  },
  {
   "cell_type": "markdown",
   "metadata": {},
   "source": [
    "### 設定要匯出的欄位"
   ]
  },
  {
   "cell_type": "code",
   "execution_count": 28,
   "metadata": {},
   "outputs": [
    {
     "name": "stderr",
     "output_type": "stream",
     "text": [
      "C:\\ANACONDA\\Anaconda37\\lib\\site-packages\\pandas\\core\\indexing.py:1418: FutureWarning: \n",
      "Passing list-likes to .loc or [] with any missing label will raise\n",
      "KeyError in the future, you can use .reindex() as an alternative.\n",
      "\n",
      "See the documentation here:\n",
      "https://pandas.pydata.org/pandas-docs/stable/user_guide/indexing.html#deprecate-loc-reindex-listlike\n",
      "  return self._getitem_tuple(key)\n"
     ]
    }
   ],
   "source": [
    "df.to_csv(path_or_buf = r\"..\\匯出文件3.csv\",\n",
    "             index = False,\n",
    "             columns = [\"用戶ID\",\"7月銷量\",\"8月銷量\",\"9月銷量\"])"
   ]
  },
  {
   "cell_type": "markdown",
   "metadata": {},
   "source": [
    "### 設定分隔符號"
   ]
  },
  {
   "cell_type": "code",
   "execution_count": 29,
   "metadata": {},
   "outputs": [],
   "source": [
    "df.to_csv(path_or_buf = r\"..\\匯出文件4.csv\",\n",
    "             index = False,\n",
    "             columns = [\"用戶ID\",\"7月銷量\",\"8月銷量\",\"9月銷量\"],\n",
    "             sep = \",\")"
   ]
  },
  {
   "cell_type": "markdown",
   "metadata": {},
   "source": [
    "### 缺失值處理"
   ]
  },
  {
   "cell_type": "code",
   "execution_count": 30,
   "metadata": {},
   "outputs": [],
   "source": [
    "df.to_csv(path_or_buf = r\"..\\匯出文件5.csv\",\n",
    "             index = False,\n",
    "             columns = [\"用戶ID\",\"7月銷量\",\"8月銷量\",\"9月銷量\"],\n",
    "             sep = \",\",\n",
    "             na_rep = 0)"
   ]
  },
  {
   "cell_type": "markdown",
   "metadata": {},
   "source": [
    "### 設定編碼格式"
   ]
  },
  {
   "cell_type": "code",
   "execution_count": 31,
   "metadata": {},
   "outputs": [],
   "source": [
    "df.to_csv(path_or_buf = r\"..\\匯出文件6.csv\",\n",
    "             index = False,\n",
    "             columns = [\"用戶ID\",\"7月銷量\",\"8月銷量\",\"9月銷量\"],\n",
    "             sep = \",\",\n",
    "             na_rep = 0,\n",
    "             encoding = \"big5\")"
   ]
  },
  {
   "cell_type": "markdown",
   "metadata": {},
   "source": [
    "## 將檔案匯出到多個Sheet"
   ]
  },
  {
   "cell_type": "code",
   "execution_count": 32,
   "metadata": {},
   "outputs": [
    {
     "data": {
      "text/html": [
       "<div>\n",
       "<style scoped>\n",
       "    .dataframe tbody tr th:only-of-type {\n",
       "        vertical-align: middle;\n",
       "    }\n",
       "\n",
       "    .dataframe tbody tr th {\n",
       "        vertical-align: top;\n",
       "    }\n",
       "\n",
       "    .dataframe thead th {\n",
       "        text-align: right;\n",
       "    }\n",
       "</style>\n",
       "<table border=\"1\" class=\"dataframe\">\n",
       "  <thead>\n",
       "    <tr style=\"text-align: right;\">\n",
       "      <th></th>\n",
       "      <th>使用者ID</th>\n",
       "      <th>客戶分類</th>\n",
       "      <th>區域</th>\n",
       "      <th>7月銷量</th>\n",
       "    </tr>\n",
       "  </thead>\n",
       "  <tbody>\n",
       "    <tr>\n",
       "      <td>0</td>\n",
       "      <td>59224</td>\n",
       "      <td>A類</td>\n",
       "      <td>北區</td>\n",
       "      <td>6</td>\n",
       "    </tr>\n",
       "    <tr>\n",
       "      <td>1</td>\n",
       "      <td>55295</td>\n",
       "      <td>B類</td>\n",
       "      <td>南區</td>\n",
       "      <td>37</td>\n",
       "    </tr>\n",
       "    <tr>\n",
       "      <td>2</td>\n",
       "      <td>46035</td>\n",
       "      <td>A類</td>\n",
       "      <td>中區</td>\n",
       "      <td>8</td>\n",
       "    </tr>\n",
       "    <tr>\n",
       "      <td>3</td>\n",
       "      <td>2459</td>\n",
       "      <td>C類</td>\n",
       "      <td>北區</td>\n",
       "      <td>7</td>\n",
       "    </tr>\n",
       "    <tr>\n",
       "      <td>4</td>\n",
       "      <td>22179</td>\n",
       "      <td>B類</td>\n",
       "      <td>南區</td>\n",
       "      <td>9</td>\n",
       "    </tr>\n",
       "    <tr>\n",
       "      <td>5</td>\n",
       "      <td>22557</td>\n",
       "      <td>A類</td>\n",
       "      <td>中區</td>\n",
       "      <td>42</td>\n",
       "    </tr>\n",
       "  </tbody>\n",
       "</table>\n",
       "</div>"
      ],
      "text/plain": [
       "   使用者ID 客戶分類  區域  7月銷量\n",
       "0  59224   A類  北區     6\n",
       "1  55295   B類  南區    37\n",
       "2  46035   A類  中區     8\n",
       "3   2459   C類  北區     7\n",
       "4  22179   B類  南區     9\n",
       "5  22557   A類  中區    42"
      ]
     },
     "execution_count": 32,
     "metadata": {},
     "output_type": "execute_result"
    }
   ],
   "source": [
    "data1 = {\"使用者ID\":[59224,55295,46035,2459,22179,22557],\n",
    "        \"客戶分類\":[\"A類\",\"B類\",\"A類\",\"C類\",\"B類\",\"A類\"],\n",
    "         \"區域\":[\"北區\",\"南區\",\"中區\",\"北區\",\"南區\",\"中區\"],\n",
    "         \"7月銷量\":[6,37,8,7,9,42]}\n",
    "df1 = pd.DataFrame(data1)         \n",
    "df1 "
   ]
  },
  {
   "cell_type": "code",
   "execution_count": 33,
   "metadata": {},
   "outputs": [
    {
     "data": {
      "text/html": [
       "<div>\n",
       "<style scoped>\n",
       "    .dataframe tbody tr th:only-of-type {\n",
       "        vertical-align: middle;\n",
       "    }\n",
       "\n",
       "    .dataframe tbody tr th {\n",
       "        vertical-align: top;\n",
       "    }\n",
       "\n",
       "    .dataframe thead th {\n",
       "        text-align: right;\n",
       "    }\n",
       "</style>\n",
       "<table border=\"1\" class=\"dataframe\">\n",
       "  <thead>\n",
       "    <tr style=\"text-align: right;\">\n",
       "      <th></th>\n",
       "      <th>使用者ID</th>\n",
       "      <th>客戶分類</th>\n",
       "      <th>區域</th>\n",
       "      <th>8月銷量</th>\n",
       "    </tr>\n",
       "  </thead>\n",
       "  <tbody>\n",
       "    <tr>\n",
       "      <td>0</td>\n",
       "      <td>59224</td>\n",
       "      <td>A類</td>\n",
       "      <td>北區</td>\n",
       "      <td>20</td>\n",
       "    </tr>\n",
       "    <tr>\n",
       "      <td>1</td>\n",
       "      <td>55295</td>\n",
       "      <td>B類</td>\n",
       "      <td>南區</td>\n",
       "      <td>27</td>\n",
       "    </tr>\n",
       "    <tr>\n",
       "      <td>2</td>\n",
       "      <td>46035</td>\n",
       "      <td>A類</td>\n",
       "      <td>中區</td>\n",
       "      <td>1</td>\n",
       "    </tr>\n",
       "    <tr>\n",
       "      <td>3</td>\n",
       "      <td>2459</td>\n",
       "      <td>C類</td>\n",
       "      <td>北區</td>\n",
       "      <td>8</td>\n",
       "    </tr>\n",
       "    <tr>\n",
       "      <td>4</td>\n",
       "      <td>22179</td>\n",
       "      <td>B類</td>\n",
       "      <td>南區</td>\n",
       "      <td>12</td>\n",
       "    </tr>\n",
       "    <tr>\n",
       "      <td>5</td>\n",
       "      <td>22557</td>\n",
       "      <td>A類</td>\n",
       "      <td>中區</td>\n",
       "      <td>20</td>\n",
       "    </tr>\n",
       "  </tbody>\n",
       "</table>\n",
       "</div>"
      ],
      "text/plain": [
       "   使用者ID 客戶分類  區域  8月銷量\n",
       "0  59224   A類  北區    20\n",
       "1  55295   B類  南區    27\n",
       "2  46035   A類  中區     1\n",
       "3   2459   C類  北區     8\n",
       "4  22179   B類  南區    12\n",
       "5  22557   A類  中區    20"
      ]
     },
     "execution_count": 33,
     "metadata": {},
     "output_type": "execute_result"
    }
   ],
   "source": [
    "data2 = {\"使用者ID\":[59224,55295,46035,2459,22179,22557],\n",
    "        \"客戶分類\":[\"A類\",\"B類\",\"A類\",\"C類\",\"B類\",\"A類\"],\n",
    "         \"區域\":[\"北區\",\"南區\",\"中區\",\"北區\",\"南區\",\"中區\"],\n",
    "         \"8月銷量\":[20,27,1,8,12,20]}\n",
    "df2 = pd.DataFrame(data2)\n",
    "df2"
   ]
  },
  {
   "cell_type": "code",
   "execution_count": 34,
   "metadata": {},
   "outputs": [
    {
     "data": {
      "text/html": [
       "<div>\n",
       "<style scoped>\n",
       "    .dataframe tbody tr th:only-of-type {\n",
       "        vertical-align: middle;\n",
       "    }\n",
       "\n",
       "    .dataframe tbody tr th {\n",
       "        vertical-align: top;\n",
       "    }\n",
       "\n",
       "    .dataframe thead th {\n",
       "        text-align: right;\n",
       "    }\n",
       "</style>\n",
       "<table border=\"1\" class=\"dataframe\">\n",
       "  <thead>\n",
       "    <tr style=\"text-align: right;\">\n",
       "      <th></th>\n",
       "      <th>使用者ID</th>\n",
       "      <th>客戶分類</th>\n",
       "      <th>區域</th>\n",
       "      <th>9月銷量</th>\n",
       "    </tr>\n",
       "  </thead>\n",
       "  <tbody>\n",
       "    <tr>\n",
       "      <td>0</td>\n",
       "      <td>59224</td>\n",
       "      <td>A類</td>\n",
       "      <td>北區</td>\n",
       "      <td>0</td>\n",
       "    </tr>\n",
       "    <tr>\n",
       "      <td>1</td>\n",
       "      <td>55295</td>\n",
       "      <td>B類</td>\n",
       "      <td>南區</td>\n",
       "      <td>35</td>\n",
       "    </tr>\n",
       "    <tr>\n",
       "      <td>2</td>\n",
       "      <td>46035</td>\n",
       "      <td>A類</td>\n",
       "      <td>中區</td>\n",
       "      <td>8</td>\n",
       "    </tr>\n",
       "    <tr>\n",
       "      <td>3</td>\n",
       "      <td>2459</td>\n",
       "      <td>C類</td>\n",
       "      <td>北區</td>\n",
       "      <td>14</td>\n",
       "    </tr>\n",
       "    <tr>\n",
       "      <td>4</td>\n",
       "      <td>22179</td>\n",
       "      <td>B類</td>\n",
       "      <td>南區</td>\n",
       "      <td>4</td>\n",
       "    </tr>\n",
       "    <tr>\n",
       "      <td>5</td>\n",
       "      <td>22557</td>\n",
       "      <td>A類</td>\n",
       "      <td>中區</td>\n",
       "      <td>55</td>\n",
       "    </tr>\n",
       "  </tbody>\n",
       "</table>\n",
       "</div>"
      ],
      "text/plain": [
       "   使用者ID 客戶分類  區域  9月銷量\n",
       "0  59224   A類  北區     0\n",
       "1  55295   B類  南區    35\n",
       "2  46035   A類  中區     8\n",
       "3   2459   C類  北區    14\n",
       "4  22179   B類  南區     4\n",
       "5  22557   A類  中區    55"
      ]
     },
     "execution_count": 34,
     "metadata": {},
     "output_type": "execute_result"
    }
   ],
   "source": [
    "data3 = {\"使用者ID\":[59224,55295,46035,2459,22179,22557],\n",
    "        \"客戶分類\":[\"A類\",\"B類\",\"A類\",\"C類\",\"B類\",\"A類\"],\n",
    "         \"區域\":[\"北區\",\"南區\",\"中區\",\"北區\",\"南區\",\"中區\"],\n",
    "         \"9月銷量\":[0,35,8,14,4,55]}\n",
    "df3 = pd.DataFrame(data3)\n",
    "df3"
   ]
  },
  {
   "cell_type": "code",
   "execution_count": 35,
   "metadata": {},
   "outputs": [],
   "source": [
    "#宣告一個讀寫物件\n",
    "#excelpath為檔案要存放的路徑與檔名\n",
    "excelpath = \"../12-3.xlsx\"\n",
    "writer = pd.ExcelWriter(excelpath,engine = \"xlsxwriter\")\n",
    "\n",
    "#分別將表df1、df2、df3寫入Excel中的Sheet1、Sheet2、Sheet3\n",
    "#並命名為7月、8月、9月\n",
    "df1.to_excel(writer,sheet_name = \"7月\")\n",
    "df2.to_excel(writer,sheet_name = \"8月\")\n",
    "df3.to_excel(writer,sheet_name = \"9月\")\n",
    "\n",
    "#保存讀寫的內容\n",
    "writer.save()\n"
   ]
  },
  {
   "cell_type": "code",
   "execution_count": 36,
   "metadata": {},
   "outputs": [
    {
     "name": "stdout",
     "output_type": "stream",
     "text": [
      "Done!\n"
     ]
    }
   ],
   "source": [
    "print('Done!')"
   ]
  }
 ],
 "metadata": {
  "kernelspec": {
   "display_name": "Python 3",
   "language": "python",
   "name": "python3"
  },
  "language_info": {
   "codemirror_mode": {
    "name": "ipython",
    "version": 3
   },
   "file_extension": ".py",
   "mimetype": "text/x-python",
   "name": "python",
   "nbconvert_exporter": "python",
   "pygments_lexer": "ipython3",
   "version": "3.8.8"
  },
  "toc": {
   "base_numbering": "12",
   "nav_menu": {},
   "number_sections": true,
   "sideBar": true,
   "skip_h1_title": false,
   "title_cell": "Table of Contents",
   "title_sidebar": "Contents",
   "toc_cell": false,
   "toc_position": {},
   "toc_section_display": true,
   "toc_window_display": true
  },
  "varInspector": {
   "cols": {
    "lenName": 16,
    "lenType": 16,
    "lenVar": 40
   },
   "kernels_config": {
    "python": {
     "delete_cmd_postfix": "",
     "delete_cmd_prefix": "del ",
     "library": "var_list.py",
     "varRefreshCmd": "print(var_dic_list())"
    },
    "r": {
     "delete_cmd_postfix": ") ",
     "delete_cmd_prefix": "rm(",
     "library": "var_list.r",
     "varRefreshCmd": "cat(var_dic_list()) "
    }
   },
   "types_to_exclude": [
    "module",
    "function",
    "builtin_function_or_method",
    "instance",
    "_Feature"
   ],
   "window_display": false
  }
 },
 "nbformat": 4,
 "nbformat_minor": 2
}